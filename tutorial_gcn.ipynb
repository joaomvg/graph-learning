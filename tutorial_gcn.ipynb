{
 "cells": [
  {
   "cell_type": "code",
   "execution_count": 1,
   "metadata": {},
   "outputs": [
    {
     "name": "stderr",
     "output_type": "stream",
     "text": [
      "Using backend: pytorch\n"
     ]
    }
   ],
   "source": [
    "import pandas as pd\n",
    "import numpy as np\n",
    "\n",
    "import os, sys\n",
    "from copy import deepcopy\n",
    "\n",
    "import torch as th\n",
    "import torch.nn as nn\n",
    "from torch import optim\n",
    "import torch.nn.functional as F\n",
    "\n",
    "import matplotlib.pyplot as plt\n",
    "%matplotlib inline\n",
    "\n",
    "from itertools import combinations\n",
    "import networkx as nx\n",
    "\n",
    "os.environ['DGLBACKEND'] = 'pytorch'\n",
    "import dgl\n",
    "from dgl import function as fn"
   ]
  },
  {
   "cell_type": "code",
   "execution_count": 14,
   "metadata": {},
   "outputs": [],
   "source": [
    "from dgl.nn import GraphConv, HeteroGraphConv  # type: ignore "
   ]
  },
  {
   "cell_type": "markdown",
   "metadata": {},
   "source": [
    "## dgl.heterograph(data_dict, num_nodes_dict=None, idtype=None, device=None)\n",
    "Create a heterogeneous graph and return.\n",
    "\n",
    "Parameters\n",
    "data_dict (graph data) –\n",
    "\n",
    "The dictionary data for constructing a heterogeneous graph. The keys are in the form of string triplets (src_type, edge_type, dst_type), specifying the source node, edge, and destination node types. The values are graph data in the form of (U,V), where (U[i],V[i]) forms the edge with ID i. The allowed graph data formats are:"
   ]
  },
  {
   "cell_type": "code",
   "execution_count": 24,
   "metadata": {},
   "outputs": [],
   "source": [
    "# Case 2: Unidirectional bipartite graph\n",
    "u = [0, 1, 0, 0, 1]\n",
    "v = [0, 1, 2, 3, 2]\n",
    "\n",
    "w=[1,2,3,4]\n",
    "z=[0,1,1,0]\n",
    "\n",
    "g = dgl.heterograph({('_U', '_E', '_V') : (u, v),\n",
    "                     ('_V','_Z','_U'): (v,u)})  # type: ignore\n",
    "u_fea = th.rand(2, 5)\n",
    "v_fea = th.rand(4, 5)"
   ]
  },
  {
   "cell_type": "code",
   "execution_count": 37,
   "metadata": {},
   "outputs": [],
   "source": [
    "# Case 2: Unidirectional bipartite graph\n",
    "u = [0, 1, 0, 0, 1,0]\n",
    "v = [0, 1, 2, 3, 2,4]\n",
    "\n",
    "\n",
    "g = dgl.heterograph({('_U', '_E', '_V') : (u, v),\n",
    "                     })  # type: ignore\n",
    "u_fea = th.rand(2, 5)\n",
    "v_fea = th.rand(5, 5)"
   ]
  },
  {
   "cell_type": "code",
   "execution_count": 30,
   "metadata": {},
   "outputs": [
    {
     "data": {
      "text/plain": [
       "['_E']"
      ]
     },
     "execution_count": 30,
     "metadata": {},
     "output_type": "execute_result"
    }
   ],
   "source": [
    "g.etypes"
   ]
  },
  {
   "cell_type": "code",
   "execution_count": 38,
   "metadata": {},
   "outputs": [
    {
     "data": {
      "text/plain": [
       "tensor([[-0.1303, -0.2852],\n",
       "        [-0.2618, -0.4289],\n",
       "        [-0.2773, -0.5049],\n",
       "        [-0.1303, -0.2852],\n",
       "        [-0.1303, -0.2852]], grad_fn=<AddBackward0>)"
      ]
     },
     "execution_count": 38,
     "metadata": {},
     "output_type": "execute_result"
    }
   ],
   "source": [
    "conv =  GraphConv(5,2)\n",
    "conv(g, (u_fea,v_fea))"
   ]
  },
  {
   "cell_type": "code",
   "execution_count": 25,
   "metadata": {},
   "outputs": [],
   "source": [
    "conv = HeteroGraphConv({\n",
    "    '_E' : GraphConv(5,2),\n",
    "    '_Z' : GraphConv(5,3),\n",
    "    },\n",
    "    aggregate='sum')"
   ]
  },
  {
   "cell_type": "code",
   "execution_count": 39,
   "metadata": {},
   "outputs": [
    {
     "data": {
      "text/plain": [
       "Parameter containing:\n",
       "tensor([[ 0.7445, -0.1248],\n",
       "        [-0.6177, -0.1996],\n",
       "        [-0.5875, -0.7300],\n",
       "        [ 0.5890, -0.4935],\n",
       "        [ 0.2065,  0.3837]], requires_grad=True)"
      ]
     },
     "execution_count": 39,
     "metadata": {},
     "output_type": "execute_result"
    }
   ],
   "source": [
    "conv.weight"
   ]
  },
  {
   "cell_type": "code",
   "execution_count": 26,
   "metadata": {},
   "outputs": [
    {
     "data": {
      "text/plain": [
       "{'_U': tensor([[-1.5566, -0.3702,  1.6320],\n",
       "         [-1.3720,  0.0749,  1.3791]], grad_fn=<SumBackward1>),\n",
       " '_V': tensor([[ 0.1884,  0.1167],\n",
       "         [ 0.3374, -0.0058],\n",
       "         [ 0.3718,  0.0784],\n",
       "         [ 0.1884,  0.1167]], grad_fn=<SumBackward1>)}"
      ]
     },
     "execution_count": 26,
     "metadata": {},
     "output_type": "execute_result"
    }
   ],
   "source": [
    "conv(g, {'_U': u_fea,'_V':v_fea})"
   ]
  },
  {
   "cell_type": "code",
   "execution_count": 28,
   "metadata": {},
   "outputs": [
    {
     "ename": "KeyError",
     "evalue": "'_U'",
     "output_type": "error",
     "traceback": [
      "\u001b[0;31m---------------------------------------------------------------------------\u001b[0m",
      "\u001b[0;31mKeyError\u001b[0m                                  Traceback (most recent call last)",
      "\u001b[0;32m/tmp/ipykernel_5216/1443319773.py\u001b[0m in \u001b[0;36m<module>\u001b[0;34m\u001b[0m\n\u001b[0;32m----> 1\u001b[0;31m \u001b[0mconv\u001b[0m\u001b[0;34m(\u001b[0m\u001b[0mg\u001b[0m\u001b[0;34m,\u001b[0m \u001b[0;34m{\u001b[0m\u001b[0;34m'_V'\u001b[0m\u001b[0;34m:\u001b[0m\u001b[0mv_fea\u001b[0m\u001b[0;34m}\u001b[0m\u001b[0;34m)\u001b[0m\u001b[0;34m\u001b[0m\u001b[0;34m\u001b[0m\u001b[0m\n\u001b[0m",
      "\u001b[0;32m~/anaconda3/lib/python3.8/site-packages/torch/nn/modules/module.py\u001b[0m in \u001b[0;36m_call_impl\u001b[0;34m(self, *input, **kwargs)\u001b[0m\n\u001b[1;32m   1049\u001b[0m         if not (self._backward_hooks or self._forward_hooks or self._forward_pre_hooks or _global_backward_hooks\n\u001b[1;32m   1050\u001b[0m                 or _global_forward_hooks or _global_forward_pre_hooks):\n\u001b[0;32m-> 1051\u001b[0;31m             \u001b[0;32mreturn\u001b[0m \u001b[0mforward_call\u001b[0m\u001b[0;34m(\u001b[0m\u001b[0;34m*\u001b[0m\u001b[0minput\u001b[0m\u001b[0;34m,\u001b[0m \u001b[0;34m**\u001b[0m\u001b[0mkwargs\u001b[0m\u001b[0;34m)\u001b[0m\u001b[0;34m\u001b[0m\u001b[0;34m\u001b[0m\u001b[0m\n\u001b[0m\u001b[1;32m   1052\u001b[0m         \u001b[0;31m# Do not call functions when jit is used\u001b[0m\u001b[0;34m\u001b[0m\u001b[0;34m\u001b[0m\u001b[0;34m\u001b[0m\u001b[0m\n\u001b[1;32m   1053\u001b[0m         \u001b[0mfull_backward_hooks\u001b[0m\u001b[0;34m,\u001b[0m \u001b[0mnon_full_backward_hooks\u001b[0m \u001b[0;34m=\u001b[0m \u001b[0;34m[\u001b[0m\u001b[0;34m]\u001b[0m\u001b[0;34m,\u001b[0m \u001b[0;34m[\u001b[0m\u001b[0;34m]\u001b[0m\u001b[0;34m\u001b[0m\u001b[0;34m\u001b[0m\u001b[0m\n",
      "\u001b[0;32m~/anaconda3/lib/python3.8/site-packages/dgl/nn/pytorch/hetero.py\u001b[0m in \u001b[0;36mforward\u001b[0;34m(self, g, inputs, mod_args, mod_kwargs)\u001b[0m\n\u001b[1;32m    185\u001b[0m                 dstdata = self.mods[etype](\n\u001b[1;32m    186\u001b[0m                     \u001b[0mrel_graph\u001b[0m\u001b[0;34m,\u001b[0m\u001b[0;34m\u001b[0m\u001b[0;34m\u001b[0m\u001b[0m\n\u001b[0;32m--> 187\u001b[0;31m                     \u001b[0;34m(\u001b[0m\u001b[0minputs\u001b[0m\u001b[0;34m[\u001b[0m\u001b[0mstype\u001b[0m\u001b[0;34m]\u001b[0m\u001b[0;34m,\u001b[0m \u001b[0minputs\u001b[0m\u001b[0;34m[\u001b[0m\u001b[0mdtype\u001b[0m\u001b[0;34m]\u001b[0m\u001b[0;34m)\u001b[0m\u001b[0;34m,\u001b[0m\u001b[0;34m\u001b[0m\u001b[0;34m\u001b[0m\u001b[0m\n\u001b[0m\u001b[1;32m    188\u001b[0m                     \u001b[0;34m*\u001b[0m\u001b[0mmod_args\u001b[0m\u001b[0;34m.\u001b[0m\u001b[0mget\u001b[0m\u001b[0;34m(\u001b[0m\u001b[0metype\u001b[0m\u001b[0;34m,\u001b[0m \u001b[0;34m(\u001b[0m\u001b[0;34m)\u001b[0m\u001b[0;34m)\u001b[0m\u001b[0;34m,\u001b[0m\u001b[0;34m\u001b[0m\u001b[0;34m\u001b[0m\u001b[0m\n\u001b[1;32m    189\u001b[0m                     **mod_kwargs.get(etype, {}))\n",
      "\u001b[0;31mKeyError\u001b[0m: '_U'"
     ]
    }
   ],
   "source": [
    "conv(g, {'_U': u_fea,'_V':v_fea})"
   ]
  }
 ],
 "metadata": {
  "kernelspec": {
   "display_name": "Python 3.8.5 ('base')",
   "language": "python",
   "name": "python3"
  },
  "language_info": {
   "codemirror_mode": {
    "name": "ipython",
    "version": 3
   },
   "file_extension": ".py",
   "mimetype": "text/x-python",
   "name": "python",
   "nbconvert_exporter": "python",
   "pygments_lexer": "ipython3",
   "version": "3.8.5"
  },
  "orig_nbformat": 4,
  "vscode": {
   "interpreter": {
    "hash": "46b936ff1622c326d442b837a2b71fa5dbcf20e52e3a75b5ec5a0d8bfc7f438d"
   }
  }
 },
 "nbformat": 4,
 "nbformat_minor": 2
}
