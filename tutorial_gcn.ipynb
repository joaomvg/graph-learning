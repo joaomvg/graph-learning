{
 "cells": [
  {
   "cell_type": "code",
   "execution_count": 1,
   "metadata": {},
   "outputs": [],
   "source": [
    "import pandas as pd\n",
    "import numpy as np\n",
    "\n",
    "import os, sys\n",
    "from copy import deepcopy\n",
    "\n",
    "import torch as th\n",
    "import torch.nn as nn\n",
    "from torch import optim\n",
    "import torch.nn.functional as F\n",
    "\n",
    "import matplotlib.pyplot as plt\n",
    "%matplotlib inline\n",
    "\n",
    "from itertools import combinations\n",
    "import networkx as nx\n",
    "\n",
    "os.environ['DGLBACKEND'] = 'pytorch'\n",
    "import dgl\n",
    "from dgl import function as fn"
   ]
  },
  {
   "cell_type": "code",
   "execution_count": 2,
   "metadata": {},
   "outputs": [],
   "source": [
    "from dgl.nn import GraphConv, HeteroGraphConv  # type: ignore "
   ]
  },
  {
   "cell_type": "markdown",
   "metadata": {},
   "source": [
    "## dgl.heterograph(data_dict, num_nodes_dict=None, idtype=None, device=None)\n",
    "Create a heterogeneous graph and return.\n",
    "\n",
    "Parameters\n",
    "data_dict (graph data) –\n",
    "\n",
    "The dictionary data for constructing a heterogeneous graph. The keys are in the form of string triplets (src_type, edge_type, dst_type), specifying the source node, edge, and destination node types. The values are graph data in the form of (U,V), where (U[i],V[i]) forms the edge with ID i. The allowed graph data formats are:"
   ]
  },
  {
   "cell_type": "code",
   "execution_count": 24,
   "metadata": {},
   "outputs": [],
   "source": [
    "# EXAMPLE\n",
    "\n",
    "n_users = 1000\n",
    "n_items = 500\n",
    "n_follows = 3000\n",
    "n_clicks = 5000\n",
    "n_dislikes = 500\n",
    "n_hetero_features = 10\n",
    "n_user_classes = 5\n",
    "n_max_clicks = 10\n",
    "\n",
    "follow_src = np.random.randint(0, n_users, n_follows)\n",
    "follow_dst = np.random.randint(0, n_users, n_follows)\n",
    "click_src = np.random.randint(0, n_users, n_clicks)\n",
    "click_dst = np.random.randint(0, n_items, n_clicks)\n",
    "dislike_src = np.random.randint(0, n_users, n_dislikes)\n",
    "dislike_dst = np.random.randint(0, n_items, n_dislikes)\n",
    "\n",
    "hetero_graph = dgl.heterograph({\n",
    "    ('user', 'follow', 'user'): (follow_src, follow_dst),\n",
    "    ('user', 'followed-by', 'user'): (follow_dst, follow_src),\n",
    "    ('user', 'click', 'item'): (click_src, click_dst),\n",
    "    ('item', 'clicked-by', 'user'): (click_dst, click_src),\n",
    "    ('user', 'dislike', 'item'): (dislike_src, dislike_dst),\n",
    "    ('item', 'disliked-by', 'user'): (dislike_dst, dislike_src)})\n",
    "\n",
    "hetero_graph.nodes['user'].data['feature'] = th.randn(n_users, n_hetero_features)\n",
    "hetero_graph.nodes['item'].data['feature'] = th.randn(n_items, n_hetero_features)\n",
    "hetero_graph.nodes['user'].data['label'] = th.randint(0, n_user_classes, (n_users,))\n",
    "hetero_graph.edges['click'].data['label'] = th.randint(1, n_max_clicks, (n_clicks,)).float()\n",
    "# randomly generate training masks on user nodes and click edges\n",
    "hetero_graph.nodes['user'].data['train_mask'] = th.zeros(n_users, dtype=th.bool).bernoulli(0.6)\n",
    "hetero_graph.edges['click'].data['train_mask'] = th.zeros(n_clicks, dtype=th.bool).bernoulli(0.6)"
   ]
  },
  {
   "cell_type": "code",
   "execution_count": 38,
   "metadata": {},
   "outputs": [
    {
     "data": {
      "text/plain": [
       "tensor(0.6190)"
      ]
     },
     "execution_count": 38,
     "metadata": {},
     "output_type": "execute_result"
    }
   ],
   "source": [
    "hetero_graph.nodes['user'].data['train_mask'].float().mean()"
   ]
  },
  {
   "cell_type": "code",
   "execution_count": 41,
   "metadata": {},
   "outputs": [
    {
     "data": {
      "text/plain": [
       "dict_keys(['feature', 'label', 'train_mask'])"
      ]
     },
     "execution_count": 41,
     "metadata": {},
     "output_type": "execute_result"
    }
   ],
   "source": [
    "hetero_graph.ndata.keys()"
   ]
  },
  {
   "cell_type": "code",
   "execution_count": 42,
   "metadata": {},
   "outputs": [
    {
     "data": {
      "text/plain": [
       "['clicked-by', 'disliked-by', 'click', 'dislike', 'follow', 'followed-by']"
      ]
     },
     "execution_count": 42,
     "metadata": {},
     "output_type": "execute_result"
    }
   ],
   "source": [
    "hetero_graph.etypes"
   ]
  },
  {
   "cell_type": "code",
   "execution_count": 61,
   "metadata": {},
   "outputs": [
    {
     "data": {
      "text/plain": [
       "[('item', 'clicked-by', 'user'),\n",
       " ('item', 'disliked-by', 'user'),\n",
       " ('user', 'click', 'item'),\n",
       " ('user', 'dislike', 'item'),\n",
       " ('user', 'follow', 'user'),\n",
       " ('user', 'followed-by', 'user')]"
      ]
     },
     "execution_count": 61,
     "metadata": {},
     "output_type": "execute_result"
    }
   ],
   "source": [
    "hetero_graph.canonical_etypes"
   ]
  },
  {
   "cell_type": "code",
   "execution_count": 62,
   "metadata": {},
   "outputs": [
    {
     "data": {
      "text/plain": [
       "Graph(num_nodes={'user': 1000, 'item': 500},\n",
       "      num_edges={('user', 'click', 'item'): 5000},\n",
       "      metagraph=[('user', 'item', 'click')])"
      ]
     },
     "execution_count": 62,
     "metadata": {},
     "output_type": "execute_result"
    }
   ],
   "source": [
    "hetero_graph['user','click','item']"
   ]
  },
  {
   "cell_type": "markdown",
   "metadata": {},
   "source": [
    "### HeteroGraphConv"
   ]
  },
  {
   "cell_type": "code",
   "execution_count": 67,
   "metadata": {},
   "outputs": [
    {
     "data": {
      "text/plain": [
       "['item', 'user']"
      ]
     },
     "execution_count": 67,
     "metadata": {},
     "output_type": "execute_result"
    }
   ],
   "source": [
    "hetero_graph.ntypes"
   ]
  },
  {
   "cell_type": "code",
   "execution_count": 64,
   "metadata": {},
   "outputs": [
    {
     "data": {
      "text/plain": [
       "{'item': tensor([[-1.3902,  1.2786, -0.4489,  ..., -0.3543,  0.2739,  1.1909],\n",
       "         [ 0.7319, -0.8361,  0.7062,  ..., -1.2054, -1.0964,  1.2348],\n",
       "         [-1.4620,  1.5981,  0.8273,  ...,  0.1122, -0.6016, -0.3839],\n",
       "         ...,\n",
       "         [-0.8961, -0.7903,  0.1389,  ..., -0.0477, -0.0211, -0.7609],\n",
       "         [ 0.8304,  0.2174, -0.2034,  ..., -2.0784,  0.0956,  1.5663],\n",
       "         [ 1.2691, -0.6357,  0.1227,  ...,  0.7385, -0.3411, -0.3693]]),\n",
       " 'user': tensor([[ 0.0059, -0.0183, -0.3146,  ...,  0.7428,  0.4005,  1.4041],\n",
       "         [-1.0220,  1.1870,  1.3856,  ..., -0.3799,  0.5323, -0.3904],\n",
       "         [ 0.4420,  0.6147,  0.7522,  ..., -0.0505, -0.5075, -2.4520],\n",
       "         ...,\n",
       "         [ 1.5425, -0.4597, -0.3241,  ..., -1.1273, -1.2750, -0.9491],\n",
       "         [-2.5829, -0.4557,  1.5716,  ..., -0.1300, -1.3180, -1.8190],\n",
       "         [ 0.1802,  0.3871, -0.1857,  ..., -0.1854,  0.5063, -0.4800]])}"
      ]
     },
     "execution_count": 64,
     "metadata": {},
     "output_type": "execute_result"
    }
   ],
   "source": [
    "hetero_graph.ndata['feature']"
   ]
  },
  {
   "cell_type": "code",
   "execution_count": 68,
   "metadata": {},
   "outputs": [
    {
     "data": {
      "text/plain": [
       "['clicked-by', 'disliked-by', 'click', 'dislike', 'follow', 'followed-by']"
      ]
     },
     "execution_count": 68,
     "metadata": {},
     "output_type": "execute_result"
    }
   ],
   "source": [
    "hetero_graph.etypes"
   ]
  },
  {
   "cell_type": "code",
   "execution_count": 69,
   "metadata": {},
   "outputs": [
    {
     "data": {
      "text/plain": [
       "[('item', 'clicked-by', 'user'),\n",
       " ('item', 'disliked-by', 'user'),\n",
       " ('user', 'click', 'item'),\n",
       " ('user', 'dislike', 'item'),\n",
       " ('user', 'follow', 'user'),\n",
       " ('user', 'followed-by', 'user')]"
      ]
     },
     "execution_count": 69,
     "metadata": {},
     "output_type": "execute_result"
    }
   ],
   "source": [
    "hetero_graph.canonical_etypes"
   ]
  },
  {
   "cell_type": "code",
   "execution_count": 70,
   "metadata": {},
   "outputs": [
    {
     "data": {
      "text/plain": [
       "Graph(num_nodes={'user': 1000, 'item': 500},\n",
       "      num_edges={('user', 'click', 'item'): 5000},\n",
       "      metagraph=[('user', 'item', 'click')])"
      ]
     },
     "execution_count": 70,
     "metadata": {},
     "output_type": "execute_result"
    }
   ],
   "source": [
    "hetero_graph[('user', 'click', 'item')]"
   ]
  },
  {
   "cell_type": "code",
   "execution_count": 85,
   "metadata": {},
   "outputs": [
    {
     "data": {
      "text/plain": [
       "['item', 'user']"
      ]
     },
     "execution_count": 85,
     "metadata": {},
     "output_type": "execute_result"
    }
   ],
   "source": [
    "hetero_graph.dsttypes"
   ]
  },
  {
   "cell_type": "code",
   "execution_count": 86,
   "metadata": {},
   "outputs": [
    {
     "data": {
      "text/plain": [
       "['item', 'user']"
      ]
     },
     "execution_count": 86,
     "metadata": {},
     "output_type": "execute_result"
    }
   ],
   "source": [
    "hetero_graph.srctypes"
   ]
  },
  {
   "cell_type": "code",
   "execution_count": 100,
   "metadata": {},
   "outputs": [
    {
     "data": {
      "text/plain": [
       "{'item': 10, 'user': 10}"
      ]
     },
     "execution_count": 100,
     "metadata": {},
     "output_type": "execute_result"
    }
   ],
   "source": [
    "feat_dim = {node: feats.shape[1] for node, feats in hetero_graph.ndata['feature'].items()}\n",
    "feat_dim"
   ]
  },
  {
   "cell_type": "code",
   "execution_count": 81,
   "metadata": {},
   "outputs": [],
   "source": [
    "in_feats = hetero_graph.ndata['feature']['user'].shape[1]\n",
    "out_feats = hetero_graph.ndata['feature']['item'].shape[1]"
   ]
  },
  {
   "cell_type": "code",
   "execution_count": 103,
   "metadata": {},
   "outputs": [],
   "source": [
    "conv1 = HeteroGraphConv({\n",
    "            etype: GraphConv(in_feats,2) for etype in hetero_graph.etypes\n",
    "            }, aggregate='sum')"
   ]
  },
  {
   "cell_type": "code",
   "execution_count": 104,
   "metadata": {},
   "outputs": [
    {
     "data": {
      "text/plain": [
       "{'item': tensor([[ 2.7066e+00,  8.5032e-01],\n",
       "         [-6.3377e-01, -1.2559e+00],\n",
       "         [-2.9275e-01, -7.5024e-01],\n",
       "         [ 1.9024e+00, -2.5612e-01],\n",
       "         [ 7.4768e-01,  5.7439e-01],\n",
       "         [-5.0223e-01, -2.6807e-01],\n",
       "         [-7.0489e-01, -3.3054e-01],\n",
       "         [-1.8597e-01,  1.2710e-01],\n",
       "         [ 9.1076e-01, -1.7512e+00],\n",
       "         [ 1.6524e-01, -5.7117e-01],\n",
       "         [ 1.6481e+00, -9.0393e-01],\n",
       "         [ 5.4161e-01, -1.5691e-01],\n",
       "         [-1.8374e-01, -9.0231e-01],\n",
       "         [ 2.6233e-01, -1.1478e-01],\n",
       "         [-3.8885e-01,  1.0290e+00],\n",
       "         [ 1.5064e+00,  5.9041e-01],\n",
       "         [-4.7293e-01,  1.2410e+00],\n",
       "         [ 1.9546e+00,  1.1443e+00],\n",
       "         [-4.8884e-01,  3.6058e-01],\n",
       "         [-1.3837e+00,  1.1200e-01],\n",
       "         [-9.9973e-01, -1.4367e-01],\n",
       "         [ 1.8729e+00, -1.4430e+00],\n",
       "         [ 6.2640e-01, -1.1634e+00],\n",
       "         [ 7.3308e-01, -9.6441e-01],\n",
       "         [-5.4120e-02,  3.3317e-01],\n",
       "         [ 4.0032e-02, -1.0339e-01],\n",
       "         [-2.0861e-01,  6.6239e-01],\n",
       "         [ 2.5005e-01,  1.3085e+00],\n",
       "         [-3.3839e-01,  3.0799e-01],\n",
       "         [ 2.3785e-01, -8.1393e-02],\n",
       "         [ 7.7109e-02,  9.4589e-01],\n",
       "         [-3.3270e-01,  9.9494e-02],\n",
       "         [-5.0735e-02,  2.7438e-01],\n",
       "         [ 1.0535e+00,  2.4559e-01],\n",
       "         [-6.0839e-01,  4.6290e-02],\n",
       "         [-1.8535e-02, -7.3693e-01],\n",
       "         [-1.5342e+00, -4.4146e-01],\n",
       "         [ 2.4281e-01,  5.8032e-01],\n",
       "         [-4.8882e-01,  1.5107e+00],\n",
       "         [ 1.9869e-01, -2.8701e-01],\n",
       "         [-7.4688e-02, -1.7031e-02],\n",
       "         [-1.5699e-01,  1.1190e+00],\n",
       "         [-1.2812e-01,  5.5950e-01],\n",
       "         [ 2.5047e+00,  1.0401e+00],\n",
       "         [-7.5843e-01,  6.9466e-02],\n",
       "         [-8.7832e-01,  1.3396e+00],\n",
       "         [-8.3162e-02, -1.2775e+00],\n",
       "         [ 8.7456e-02,  7.0754e-01],\n",
       "         [ 1.8603e+00,  7.7774e-01],\n",
       "         [ 1.2247e-01,  3.3007e-01],\n",
       "         [ 2.3064e-01, -1.0346e+00],\n",
       "         [ 3.8935e-01,  1.2391e+00],\n",
       "         [-7.0927e-01,  7.0983e-01],\n",
       "         [-6.8212e-01,  1.7282e-01],\n",
       "         [ 1.7092e+00,  1.6336e-01],\n",
       "         [-2.5404e-01,  1.8051e-01],\n",
       "         [ 2.0379e-01,  3.8463e-01],\n",
       "         [ 3.3863e-01, -1.0163e+00],\n",
       "         [ 1.8310e+00,  6.8736e-01],\n",
       "         [-2.5817e+00, -5.4189e-02],\n",
       "         [ 2.0281e+00,  3.7807e-01],\n",
       "         [-1.3906e-01,  2.4916e-01],\n",
       "         [ 4.3040e-01, -3.7299e-01],\n",
       "         [ 1.2497e-01,  7.9846e-01],\n",
       "         [ 1.4530e-01,  8.4026e-01],\n",
       "         [ 2.3783e+00, -5.6605e-01],\n",
       "         [-1.9438e-01, -3.7920e-01],\n",
       "         [ 2.2364e-01, -3.6858e-02],\n",
       "         [-2.5754e+00, -6.4117e-01],\n",
       "         [ 3.6066e-01, -1.3368e-01],\n",
       "         [-1.7865e+00,  2.3165e+00],\n",
       "         [-7.8038e-01,  1.7534e+00],\n",
       "         [ 1.5021e+00, -4.4271e-01],\n",
       "         [ 6.1564e-01, -4.7471e-01],\n",
       "         [ 1.2851e-01, -3.6701e-01],\n",
       "         [-7.4716e-02,  4.1780e-01],\n",
       "         [-3.9075e-01, -2.7913e-01],\n",
       "         [-4.9077e-01, -4.6040e-01],\n",
       "         [ 2.8850e-01, -7.4607e-01],\n",
       "         [ 1.1591e+00, -2.4186e+00],\n",
       "         [ 1.7237e-01, -1.3511e-02],\n",
       "         [-1.6112e+00,  8.6575e-01],\n",
       "         [-5.6428e-01, -3.4229e-01],\n",
       "         [ 1.3661e+00,  9.0845e-01],\n",
       "         [-8.7337e-01, -1.2556e+00],\n",
       "         [-3.6797e-01,  5.3742e-02],\n",
       "         [-7.0755e-01,  1.2475e+00],\n",
       "         [-2.3484e-01, -3.1712e-01],\n",
       "         [ 2.4623e-01, -2.0918e+00],\n",
       "         [-1.8620e-03,  4.6588e-01],\n",
       "         [ 4.8873e-01,  1.6481e+00],\n",
       "         [-3.2196e-01, -1.1794e+00],\n",
       "         [-1.4391e+00, -7.8844e-01],\n",
       "         [-5.7561e-01,  4.6134e-01],\n",
       "         [-1.1548e+00, -9.9572e-01],\n",
       "         [-1.4619e+00,  5.3391e-01],\n",
       "         [-7.4333e-01,  1.0475e-01],\n",
       "         [ 1.1960e+00, -6.6344e-01],\n",
       "         [-1.8341e+00, -8.5384e-02],\n",
       "         [-2.4160e-01, -4.0597e-01],\n",
       "         [ 1.0456e-01, -5.3345e-01],\n",
       "         [ 1.0276e+00, -2.4439e-02],\n",
       "         [ 1.5619e-01, -5.4645e-01],\n",
       "         [-4.5966e-01, -1.3901e+00],\n",
       "         [-2.1298e-01, -1.0360e+00],\n",
       "         [-6.7722e-01,  1.1216e+00],\n",
       "         [-1.2604e-01, -5.2977e-01],\n",
       "         [-8.1220e-01, -1.3681e-01],\n",
       "         [-1.7776e+00,  1.4754e+00],\n",
       "         [-9.1201e-01,  1.2468e+00],\n",
       "         [ 8.4514e-01,  1.1741e+00],\n",
       "         [ 1.1884e-01,  4.5075e-01],\n",
       "         [ 1.4424e+00, -8.4800e-01],\n",
       "         [-5.7698e-01, -2.0320e+00],\n",
       "         [ 9.8189e-01, -5.4911e-01],\n",
       "         [ 6.8174e-01,  7.2173e-01],\n",
       "         [ 5.7167e-01, -2.9667e-01],\n",
       "         [-4.3302e-01, -2.6813e-01],\n",
       "         [-7.4019e-03, -5.0948e-01],\n",
       "         [ 5.0269e-01,  7.1702e-01],\n",
       "         [ 1.6620e+00, -2.4526e-01],\n",
       "         [-1.8495e+00,  8.9394e-01],\n",
       "         [ 5.1670e-01, -1.3547e-01],\n",
       "         [-1.3733e+00,  1.1530e+00],\n",
       "         [ 5.2324e-02,  3.0059e-01],\n",
       "         [ 1.7173e-01, -2.6739e-02],\n",
       "         [-1.2286e-02, -3.9876e-02],\n",
       "         [-9.0235e-01, -4.6845e-01],\n",
       "         [-4.5434e-01,  1.3141e-01],\n",
       "         [-1.9430e+00,  1.0494e+00],\n",
       "         [-9.7089e-01, -5.6352e-01],\n",
       "         [-3.1526e-01,  5.5082e-01],\n",
       "         [-2.0686e+00,  5.7077e-01],\n",
       "         [ 6.2307e-01, -2.0415e+00],\n",
       "         [ 4.4475e-02,  9.6261e-02],\n",
       "         [ 2.2394e-01, -8.1070e-01],\n",
       "         [ 4.4111e-01, -2.8293e-01],\n",
       "         [-3.8988e-01, -2.4676e-01],\n",
       "         [-2.7261e-01,  8.4537e-01],\n",
       "         [-8.1166e-01, -6.0419e-01],\n",
       "         [-8.7235e-01, -9.9666e-01],\n",
       "         [ 7.6946e-01, -8.7374e-01],\n",
       "         [-8.4646e-02,  8.2093e-01],\n",
       "         [-9.8526e-01, -5.2745e-01],\n",
       "         [ 1.4864e+00, -1.6248e+00],\n",
       "         [ 1.3708e+00,  6.5000e-01],\n",
       "         [ 7.7831e-01, -5.6758e-01],\n",
       "         [ 1.4848e+00, -3.9272e-01],\n",
       "         [ 9.3354e-01,  7.4233e-01],\n",
       "         [-3.1808e-01,  1.0158e+00],\n",
       "         [-6.2953e-01, -5.2979e-01],\n",
       "         [ 3.8222e-01, -1.8001e+00],\n",
       "         [ 4.6611e-02,  7.1573e-01],\n",
       "         [ 2.4869e+00, -2.4365e+00],\n",
       "         [ 2.4647e+00, -1.9580e+00],\n",
       "         [-9.0486e-01,  8.4466e-02],\n",
       "         [-7.6256e-01, -1.4236e-01],\n",
       "         [-4.9644e-01, -2.8056e-01],\n",
       "         [ 3.0725e-01,  2.2647e-02],\n",
       "         [-6.2113e-01,  7.4778e-01],\n",
       "         [-7.1612e-01,  7.8496e-01],\n",
       "         [ 2.3639e+00, -5.4257e-01],\n",
       "         [ 1.5529e+00,  1.3077e+00],\n",
       "         [ 3.0049e-01, -5.7817e-01],\n",
       "         [ 1.4734e+00, -2.3017e+00],\n",
       "         [ 6.5250e-01, -2.7994e-01],\n",
       "         [-4.4756e-01, -1.0425e+00],\n",
       "         [-1.5099e+00,  9.2375e-01],\n",
       "         [ 6.4262e-01, -8.1814e-02],\n",
       "         [ 6.6457e-01,  5.6214e-01],\n",
       "         [-1.9147e+00,  3.6628e-02],\n",
       "         [ 1.4562e+00,  6.1227e-01],\n",
       "         [-1.9041e-01, -9.4517e-02],\n",
       "         [-1.0606e+00, -8.5648e-01],\n",
       "         [-3.9216e+00,  1.4508e-01],\n",
       "         [-2.5119e-01, -7.5681e-01],\n",
       "         [ 3.4462e-01, -1.2051e+00],\n",
       "         [ 2.0795e+00,  6.8852e-01],\n",
       "         [ 1.6868e-01, -3.4381e-01],\n",
       "         [ 4.4103e-01,  1.9780e-01],\n",
       "         [-1.9928e-01,  6.2493e-01],\n",
       "         [-3.3043e-01,  2.7763e-01],\n",
       "         [-5.7291e-01,  6.9865e-01],\n",
       "         [ 4.3190e-01, -3.2512e-01],\n",
       "         [-3.2185e-02,  1.0687e+00],\n",
       "         [ 1.0954e+00, -2.6341e-01],\n",
       "         [ 1.5093e-01, -7.6153e-01],\n",
       "         [-4.1555e-01,  1.1859e+00],\n",
       "         [ 1.8688e-01,  9.6435e-02],\n",
       "         [ 2.8093e+00,  1.5419e+00],\n",
       "         [-1.1230e-01,  8.1596e-01],\n",
       "         [-1.1714e+00, -1.3244e+00],\n",
       "         [ 1.5087e-01,  8.1101e-01],\n",
       "         [ 2.1180e+00,  3.6173e-01],\n",
       "         [ 2.0457e-01,  1.0102e-01],\n",
       "         [-1.2328e+00,  5.8533e-01],\n",
       "         [-2.9520e-01, -1.0521e-01],\n",
       "         [-1.5559e-01,  2.9175e-01],\n",
       "         [-3.8748e-01, -3.6643e-01],\n",
       "         [ 2.3995e+00,  7.9480e-01],\n",
       "         [ 6.1047e-01, -3.6320e-01],\n",
       "         [-4.5969e-01, -1.6493e+00],\n",
       "         [ 5.6828e-01,  1.4554e-01],\n",
       "         [-1.8780e-01,  8.3589e-01],\n",
       "         [-9.3044e-01,  7.2545e-01],\n",
       "         [ 2.1212e-03, -1.0466e+00],\n",
       "         [-1.3599e-01,  2.0256e-01],\n",
       "         [-3.5318e-01, -1.1125e-02],\n",
       "         [ 1.1545e-02,  8.0511e-01],\n",
       "         [-6.2544e-01,  1.7092e+00],\n",
       "         [ 9.1569e-02,  2.8603e-01],\n",
       "         [ 2.0962e-01, -7.5564e-02],\n",
       "         [-5.0450e-01, -9.9294e-01],\n",
       "         [ 2.9903e-01,  9.7546e-01],\n",
       "         [-1.1854e+00,  1.1411e+00],\n",
       "         [ 5.7307e-01, -2.3429e-01],\n",
       "         [-1.5393e+00, -1.9827e-01],\n",
       "         [ 1.0186e+00,  6.5097e-02],\n",
       "         [ 3.8733e-01, -1.2158e-01],\n",
       "         [-6.1989e-01,  1.0151e-01],\n",
       "         [-9.7593e-01,  5.9538e-02],\n",
       "         [ 1.7957e-01, -9.0465e-01],\n",
       "         [ 6.8988e-01, -1.0351e-01],\n",
       "         [ 5.5450e-01, -2.7264e-01],\n",
       "         [ 2.2813e-01, -4.1919e-01],\n",
       "         [ 6.9441e-01,  5.7940e-01],\n",
       "         [ 1.2935e-01, -1.6062e-01],\n",
       "         [-3.5358e-01,  5.7508e-01],\n",
       "         [-1.8479e-01,  1.8437e-01],\n",
       "         [-3.2676e-01, -3.8298e-01],\n",
       "         [-2.5063e+00, -2.6152e-02],\n",
       "         [-1.3019e+00,  2.1826e-01],\n",
       "         [-6.6504e-01,  3.4181e-01],\n",
       "         [ 1.5024e-01,  3.2542e-01],\n",
       "         [-5.9842e-01, -6.9762e-01],\n",
       "         [-3.3769e-01,  9.3765e-01],\n",
       "         [ 4.3666e-01, -4.9775e-01],\n",
       "         [-5.0916e-01,  3.7547e-01],\n",
       "         [-8.1361e-01, -1.1022e+00],\n",
       "         [ 3.0339e+00, -1.7864e+00],\n",
       "         [ 1.1759e+00,  1.3193e-01],\n",
       "         [ 5.6846e-01, -1.2710e+00],\n",
       "         [-6.9170e-01, -2.8156e-01],\n",
       "         [-1.7466e-02,  5.6714e-01],\n",
       "         [-3.6067e-01,  4.0284e-01],\n",
       "         [-1.6698e-01,  6.0554e-01],\n",
       "         [ 9.7736e-01, -1.9634e+00],\n",
       "         [ 5.1790e-01, -1.0279e+00],\n",
       "         [ 1.0205e-01, -9.7976e-01],\n",
       "         [ 4.8008e-01, -8.8207e-02],\n",
       "         [-2.0699e+00,  1.0381e-01],\n",
       "         [ 2.9340e+00,  7.3890e-01],\n",
       "         [-5.3795e-02,  2.5794e-01],\n",
       "         [-9.8399e-01, -1.4245e+00],\n",
       "         [-8.4677e-01, -5.8868e-01],\n",
       "         [ 2.2711e-01,  6.6206e-01],\n",
       "         [-7.7005e-02, -1.1643e-01],\n",
       "         [-1.1764e+00,  5.2521e-01],\n",
       "         [ 1.5659e+00, -1.3448e-01],\n",
       "         [ 7.9480e-01,  4.1369e-01],\n",
       "         [-1.1690e+00, -1.6188e+00],\n",
       "         [ 1.4392e+00,  7.1807e-01],\n",
       "         [-1.9946e-01, -1.7318e-01],\n",
       "         [-4.6601e-01,  3.0354e+00],\n",
       "         [ 7.0011e-01, -1.3665e+00],\n",
       "         [ 2.8269e+00, -7.9776e-01],\n",
       "         [ 8.2141e-01, -1.4985e+00],\n",
       "         [ 2.1372e+00, -1.5868e+00],\n",
       "         [ 2.0513e-01, -6.9910e-01],\n",
       "         [-6.2320e-02, -1.3192e-01],\n",
       "         [ 2.9471e-01, -1.0385e+00],\n",
       "         [-1.8116e-01, -9.1884e-01],\n",
       "         [-2.1338e-01,  2.3611e-01],\n",
       "         [-1.3479e+00,  1.2960e+00],\n",
       "         [-3.6072e-01,  7.4266e-01],\n",
       "         [ 9.7438e-01, -2.0488e-01],\n",
       "         [-3.1920e-01, -6.1506e-01],\n",
       "         [-6.5190e-01, -2.1919e-01],\n",
       "         [ 5.7531e-01,  3.5006e-01],\n",
       "         [ 2.0129e+00,  7.0632e-02],\n",
       "         [-2.0251e+00, -1.5863e+00],\n",
       "         [-3.4223e-01,  4.8829e-01],\n",
       "         [-1.5872e-01, -2.8526e-01],\n",
       "         [ 6.3630e-02,  2.9390e+00],\n",
       "         [-1.0128e-01, -4.8230e-01],\n",
       "         [-1.6349e-01, -7.8608e-01],\n",
       "         [-2.6557e+00, -6.0803e-01],\n",
       "         [ 1.2797e+00,  8.6232e-01],\n",
       "         [ 1.8034e-01, -7.2641e-01],\n",
       "         [-9.4226e-01,  1.6857e-01],\n",
       "         [-1.4705e+00, -7.6655e-02],\n",
       "         [ 7.7185e-01,  2.9578e-01],\n",
       "         [-7.5523e-01,  8.9287e-02],\n",
       "         [-3.6024e-01,  6.3442e-01],\n",
       "         [ 2.3225e-01,  1.6111e+00],\n",
       "         [-2.2550e+00,  1.9375e-01],\n",
       "         [ 1.8107e-01,  2.9813e-01],\n",
       "         [-1.8104e-01,  8.0381e-01],\n",
       "         [ 5.7557e-01, -4.8274e-01],\n",
       "         [-2.5730e+00, -5.7921e-02],\n",
       "         [-3.2399e+00,  2.9308e-01],\n",
       "         [ 1.0042e+00, -5.4286e-01],\n",
       "         [-2.2442e-02, -1.2728e+00],\n",
       "         [-4.1434e-01, -1.1850e+00],\n",
       "         [ 5.9250e-01, -6.7065e-01],\n",
       "         [ 1.6640e+00,  3.0395e-01],\n",
       "         [-3.6762e-01,  1.2806e+00],\n",
       "         [-1.5257e-01,  6.6639e-01],\n",
       "         [ 6.8531e-02, -3.8131e-01],\n",
       "         [-1.3921e+00,  2.4845e+00],\n",
       "         [-2.2718e+00, -1.1840e+00],\n",
       "         [-2.4952e+00,  5.1941e-02],\n",
       "         [-2.7437e+00,  8.1302e-01],\n",
       "         [ 1.9513e+00,  1.2774e+00],\n",
       "         [ 2.3325e-01,  3.6526e-01],\n",
       "         [-1.0610e+00,  1.6352e+00],\n",
       "         [ 3.3735e-02, -4.7549e-01],\n",
       "         [-1.6741e+00, -2.1708e+00],\n",
       "         [ 1.4463e-01, -7.9284e-01],\n",
       "         [-5.1832e-01, -2.5646e-01],\n",
       "         [ 7.4486e-01, -1.9263e-01],\n",
       "         [-7.4439e-02,  1.7912e-01],\n",
       "         [-1.5160e+00, -9.7225e-01],\n",
       "         [ 6.6165e-01, -4.2655e-02],\n",
       "         [ 1.4812e-01, -4.1750e-02],\n",
       "         [-1.9200e-01,  1.5439e-01],\n",
       "         [-1.9943e-01, -9.4226e-01],\n",
       "         [-1.0084e+00,  7.6283e-01],\n",
       "         [ 3.5567e-01,  1.7514e-01],\n",
       "         [ 1.5877e+00, -1.4930e+00],\n",
       "         [ 1.1425e-01, -6.1897e-02],\n",
       "         [ 1.7686e-01, -1.1108e+00],\n",
       "         [-4.0702e-01,  1.3726e-01],\n",
       "         [ 5.1964e-01, -3.3067e-01],\n",
       "         [ 9.9187e-01,  2.0371e-01],\n",
       "         [ 7.6882e-01, -3.3492e-01],\n",
       "         [-5.0350e-01, -1.0189e+00],\n",
       "         [ 1.6320e+00, -4.2551e-01],\n",
       "         [ 2.7167e-01, -5.1158e-01],\n",
       "         [-3.9893e-01, -1.5811e-02],\n",
       "         [-6.6895e-01, -1.0525e-01],\n",
       "         [-5.2287e-01, -1.9895e+00],\n",
       "         [ 1.0317e+00, -3.9471e-01],\n",
       "         [-1.0731e+00, -1.2895e-01],\n",
       "         [ 2.2650e+00,  4.5385e-01],\n",
       "         [ 1.4779e+00,  1.4141e+00],\n",
       "         [-4.0780e-01, -2.5260e-01],\n",
       "         [-2.2764e+00,  4.0305e-01],\n",
       "         [-4.6725e-01,  2.1848e-01],\n",
       "         [-6.1779e-01,  2.2500e-01],\n",
       "         [ 9.5432e-01, -2.0471e+00],\n",
       "         [-5.6567e-01, -6.5027e-01],\n",
       "         [-5.0278e-01,  2.1012e-01],\n",
       "         [ 3.9981e-01, -6.4714e-01],\n",
       "         [ 7.1282e-01, -9.1399e-02],\n",
       "         [-1.8319e-01,  4.0716e-01],\n",
       "         [-8.0638e-01, -2.8488e-01],\n",
       "         [-7.9135e-01,  1.3037e-01],\n",
       "         [ 2.5564e-01, -6.4724e-01],\n",
       "         [ 1.0954e+00,  1.3767e-01],\n",
       "         [-8.1856e-01, -1.7410e+00],\n",
       "         [-3.6793e-01, -2.6629e-01],\n",
       "         [ 1.8696e-01,  7.0158e-01],\n",
       "         [ 4.6510e-01,  1.4414e-01],\n",
       "         [-2.1462e-01, -3.9579e-01],\n",
       "         [-6.2612e-01, -3.9037e-01],\n",
       "         [-1.2348e-01,  6.5033e-01],\n",
       "         [-1.0304e-01, -4.1372e-01],\n",
       "         [ 1.5497e-01, -5.6412e-01],\n",
       "         [ 2.3984e-01, -1.9452e+00],\n",
       "         [-1.2211e+00,  6.7045e-01],\n",
       "         [-1.3735e+00, -1.9074e+00],\n",
       "         [ 3.2770e-04,  4.8155e-02],\n",
       "         [ 7.1880e-01,  3.1169e-01],\n",
       "         [ 1.9985e-01, -1.5542e-01],\n",
       "         [ 1.7578e+00,  3.0934e-01],\n",
       "         [-2.1343e-01,  1.1346e-01],\n",
       "         [ 1.6020e+00,  1.0212e+00],\n",
       "         [-3.5648e-01,  9.9864e-02],\n",
       "         [ 9.2016e-01, -1.1641e+00],\n",
       "         [-4.5869e-01,  2.7115e-01],\n",
       "         [ 8.5034e-01,  6.3486e-01],\n",
       "         [-2.2601e-01,  7.5190e-01],\n",
       "         [ 2.6179e+00,  8.9025e-01],\n",
       "         [ 7.3423e-01, -1.0844e+00],\n",
       "         [-1.1743e-01,  3.0693e-01],\n",
       "         [ 4.6964e-01,  8.7735e-02],\n",
       "         [-2.3974e-01, -3.2352e-01],\n",
       "         [ 4.4767e-01,  7.4649e-01],\n",
       "         [-1.7683e-01, -3.4795e-01],\n",
       "         [ 3.1668e-01, -9.4093e-01],\n",
       "         [ 7.5611e-01, -4.8169e-01],\n",
       "         [-5.8418e-01,  7.8512e-01],\n",
       "         [ 5.3448e-01, -1.7555e-01],\n",
       "         [ 1.9880e+00, -1.6372e+00],\n",
       "         [-8.5826e-01,  1.4409e-01],\n",
       "         [ 3.7558e-01, -8.3594e-01],\n",
       "         [-2.5544e-01, -2.2074e-01],\n",
       "         [ 3.0224e-01, -4.0659e-01],\n",
       "         [ 5.1983e-01,  1.0531e-01],\n",
       "         [ 1.4980e-01,  8.2785e-01],\n",
       "         [ 1.4596e+00, -7.3688e-01],\n",
       "         [ 3.0595e-01,  2.7503e-01],\n",
       "         [ 3.3795e+00,  6.9112e-01],\n",
       "         [-5.8066e-01, -5.6501e-01],\n",
       "         [-8.6668e-01,  1.0946e+00],\n",
       "         [-1.4620e-01,  1.6973e-01],\n",
       "         [-7.3843e-01, -7.5610e-01],\n",
       "         [ 1.8488e-01, -3.8690e-01],\n",
       "         [ 4.1355e-01, -8.3265e-01],\n",
       "         [ 3.7892e+00, -5.4103e-01],\n",
       "         [ 2.0188e+00,  6.1459e-01],\n",
       "         [ 3.3321e-01,  1.1544e+00],\n",
       "         [ 2.6006e+00,  1.6936e+00],\n",
       "         [-6.2536e-02, -2.2493e-01],\n",
       "         [ 4.1569e-01, -9.4922e-01],\n",
       "         [ 3.0977e+00,  1.1504e+00],\n",
       "         [ 1.3098e+00, -1.3102e+00],\n",
       "         [ 4.3158e-01, -1.4563e+00],\n",
       "         [ 1.1169e+00,  3.5835e-01],\n",
       "         [-4.1045e-01,  9.2430e-01],\n",
       "         [-4.0587e-01,  1.1214e+00],\n",
       "         [-3.3763e-01,  1.1399e+00],\n",
       "         [ 1.0687e+00,  7.7882e-01],\n",
       "         [-3.1930e-01, -8.8662e-02],\n",
       "         [-5.1723e-01,  1.4528e+00],\n",
       "         [-2.7646e+00,  1.3161e+00],\n",
       "         [-2.3601e+00, -5.8903e-01],\n",
       "         [ 1.3630e+00,  8.1316e-01],\n",
       "         [-2.0839e+00, -2.4169e-01],\n",
       "         [ 2.9007e-01, -6.5735e-01],\n",
       "         [-1.3459e-01, -7.5793e-02],\n",
       "         [-5.4607e-01,  8.9416e-01],\n",
       "         [ 1.2098e+00,  9.9748e-01],\n",
       "         [-8.8177e-01, -2.0018e+00],\n",
       "         [ 1.1904e-01,  6.0143e-01],\n",
       "         [ 2.9665e-01,  2.6259e-01],\n",
       "         [-9.0269e-02,  4.7028e-01],\n",
       "         [ 2.7063e-01,  1.0059e-01],\n",
       "         [ 2.0547e+00,  1.5922e+00],\n",
       "         [ 3.6531e-01,  1.1899e+00],\n",
       "         [ 6.7886e-02, -4.6079e-01],\n",
       "         [-2.8667e-01, -3.2915e-01],\n",
       "         [ 1.2655e+00, -4.5381e-01],\n",
       "         [ 3.4811e-01, -1.5731e-01],\n",
       "         [-2.2424e+00, -3.3870e-01],\n",
       "         [ 2.7101e-01, -5.2083e-01],\n",
       "         [ 2.4671e-01, -1.7743e-01],\n",
       "         [ 3.6458e+00, -1.5102e+00],\n",
       "         [-1.9780e+00, -1.1362e+00],\n",
       "         [ 2.7302e-01,  4.8096e-01],\n",
       "         [ 1.3510e-01,  9.9023e-01],\n",
       "         [ 5.2134e-01, -5.5369e-01],\n",
       "         [ 4.5771e-01, -4.6544e-01],\n",
       "         [ 9.5827e-01,  1.0973e+00],\n",
       "         [-4.5181e-01,  1.8112e-01],\n",
       "         [ 1.2685e+00,  6.2089e-02],\n",
       "         [-1.5137e-01, -2.2734e-01],\n",
       "         [-6.6631e-01, -1.4891e-02],\n",
       "         [-1.1166e+00, -6.4253e-02],\n",
       "         [ 5.6813e-01,  9.4887e-01],\n",
       "         [-2.1956e-01,  2.0804e-01],\n",
       "         [-1.7500e-01,  8.7212e-01],\n",
       "         [ 2.1159e-01,  1.3804e+00],\n",
       "         [-3.5355e+00, -8.2798e-01],\n",
       "         [ 5.5784e-02,  4.6561e-01],\n",
       "         [-5.2664e-01, -8.3086e-01],\n",
       "         [-1.5115e+00,  9.9210e-02],\n",
       "         [ 2.3837e+00,  1.0056e-01],\n",
       "         [-6.6911e-01,  1.8043e+00],\n",
       "         [ 7.8181e-01,  1.6135e+00],\n",
       "         [ 3.2421e-01, -2.8382e-01],\n",
       "         [ 1.5533e+00,  6.0479e-01],\n",
       "         [-1.3500e+00,  1.3956e+00],\n",
       "         [-3.5427e-01, -3.1313e-03],\n",
       "         [-4.5601e-01,  1.9986e+00],\n",
       "         [-9.2348e-01,  3.2312e-01],\n",
       "         [ 1.7832e+00,  8.5607e-01],\n",
       "         [-1.2256e+00, -1.2939e-01],\n",
       "         [ 4.3933e-01,  8.9763e-03],\n",
       "         [-2.5967e-01, -5.1097e-02],\n",
       "         [-1.4031e+00, -1.6141e+00],\n",
       "         [-2.6594e+00, -1.5734e+00],\n",
       "         [ 1.3449e+00,  1.9214e-01],\n",
       "         [-8.3262e-01,  4.5670e-01],\n",
       "         [-6.0461e-01, -1.9553e-01],\n",
       "         [-2.8530e-02, -3.3318e-01],\n",
       "         [ 4.7390e-01, -8.4284e-01],\n",
       "         [-1.4541e-01, -6.5873e-01],\n",
       "         [-4.6317e-01,  6.0931e-01],\n",
       "         [ 9.5542e-03, -6.0437e-01],\n",
       "         [ 2.9720e-01, -1.6441e-01],\n",
       "         [ 7.2334e-01,  6.6316e-01],\n",
       "         [ 1.6416e+00,  1.5055e-01],\n",
       "         [-3.5719e-01, -7.7440e-01],\n",
       "         [ 8.0289e-01, -3.4927e-01],\n",
       "         [-2.6671e-01, -2.9082e-01],\n",
       "         [ 2.1193e-01,  3.4989e-01],\n",
       "         [ 5.4653e-01,  1.0845e+00],\n",
       "         [-1.6786e+00,  1.4641e+00]], grad_fn=<SumBackward1>),\n",
       " 'user': tensor([[-0.4105,  0.8725],\n",
       "         [ 3.0414,  1.4845],\n",
       "         [-0.5259,  1.2065],\n",
       "         ...,\n",
       "         [-2.5388,  0.4731],\n",
       "         [-0.7047, -0.0157],\n",
       "         [ 0.1841,  0.7477]], grad_fn=<SumBackward1>)}"
      ]
     },
     "execution_count": 104,
     "metadata": {},
     "output_type": "execute_result"
    }
   ],
   "source": [
    "conv1(hetero_graph,inputs={'user':hetero_graph.ndata['feature']['user'],\n",
    "                            'item': hetero_graph.ndata['feature']['item']})"
   ]
  },
  {
   "cell_type": "code",
   "execution_count": 43,
   "metadata": {},
   "outputs": [],
   "source": [
    "class RGCN(nn.Module):\n",
    "    def __init__(self, in_feats, hid_feats, out_feats, rel_names):\n",
    "        super().__init__()\n",
    "\n",
    "        self.conv1 = HeteroGraphConv({\n",
    "            rel: GraphConv(in_feats, hid_feats)\n",
    "            for rel in rel_names}, aggregate='sum')\n",
    "        self.conv2 = HeteroGraphConv({\n",
    "            rel: GraphConv(hid_feats, out_feats)\n",
    "            for rel in rel_names}, aggregate='sum')\n",
    "\n",
    "    def forward(self, graph, inputs):\n",
    "        # inputs are features of nodes\n",
    "        h = self.conv1(graph, inputs)\n",
    "        h = {k: F.relu(v) for k, v in h.items()}\n",
    "        h = self.conv2(graph, h)\n",
    "        return h"
   ]
  },
  {
   "cell_type": "code",
   "execution_count": 45,
   "metadata": {},
   "outputs": [],
   "source": [
    "model = RGCN(n_hetero_features, 20, n_user_classes, hetero_graph.etypes)\n",
    "user_feats = hetero_graph.nodes['user'].data['feature']\n",
    "item_feats = hetero_graph.nodes['item'].data['feature']\n",
    "labels = hetero_graph.nodes['user'].data['label']\n",
    "train_mask = hetero_graph.nodes['user'].data['train_mask']"
   ]
  },
  {
   "cell_type": "code",
   "execution_count": 46,
   "metadata": {},
   "outputs": [],
   "source": [
    "node_features = {'user': user_feats, 'item': item_feats}\n",
    "h_dict = model(hetero_graph, {'user': user_feats, 'item': item_feats})\n",
    "h_user = h_dict['user']\n",
    "h_item = h_dict['item']"
   ]
  },
  {
   "cell_type": "code",
   "execution_count": 48,
   "metadata": {},
   "outputs": [
    {
     "data": {
      "text/plain": [
       "torch.Size([500, 5])"
      ]
     },
     "execution_count": 48,
     "metadata": {},
     "output_type": "execute_result"
    }
   ],
   "source": [
    "h_dict['item'].shape"
   ]
  },
  {
   "cell_type": "code",
   "execution_count": 58,
   "metadata": {},
   "outputs": [
    {
     "data": {
      "text/plain": [
       "500"
      ]
     },
     "execution_count": 58,
     "metadata": {},
     "output_type": "execute_result"
    }
   ],
   "source": [
    "hetero_graph.number_of_nodes('item')"
   ]
  },
  {
   "cell_type": "code",
   "execution_count": 49,
   "metadata": {},
   "outputs": [
    {
     "data": {
      "text/plain": [
       "torch.Size([1000, 5])"
      ]
     },
     "execution_count": 49,
     "metadata": {},
     "output_type": "execute_result"
    }
   ],
   "source": [
    "h_dict['user'].shape"
   ]
  },
  {
   "cell_type": "code",
   "execution_count": null,
   "metadata": {},
   "outputs": [],
   "source": [
    "conv1 = HeteroGraphConv({\n",
    "            rel: GraphConv(in_feats, hid_feats)\n",
    "            for rel in rel_names}, aggregate='sum')"
   ]
  },
  {
   "cell_type": "code",
   "execution_count": 107,
   "metadata": {},
   "outputs": [],
   "source": [
    "# Case 2: Unidirectional bipartite graph\n",
    "u = [0, 1, 0, 0, 1]\n",
    "v = [0, 1, 2, 3, 2]\n",
    "\n",
    "g = dgl.heterograph({('_U', '_E', '_V') : (u, v),\n",
    "                     ('_V','_Z','_U'): (v,u)})  # type: ignore\n",
    "u_fea = th.rand(2, 10)\n",
    "v_fea = th.rand(4, 5)\n",
    "\n",
    "g.nodes['_U'].data['feature'] = u_fea\n",
    "g.nodes['_V'].data['feature'] = v_fea"
   ]
  },
  {
   "cell_type": "code",
   "execution_count": 108,
   "metadata": {},
   "outputs": [
    {
     "data": {
      "text/plain": [
       "{'_U': tensor([[0.6178, 0.0380, 0.2018, 0.0545, 0.0629, 0.6908, 0.4895, 0.3024, 0.9532,\n",
       "          0.2960],\n",
       "         [0.8435, 0.7506, 0.3210, 0.5559, 0.9857, 0.1722, 0.1887, 0.7096, 0.7330,\n",
       "          0.6542]]),\n",
       " '_V': tensor([[0.1088, 0.3623, 0.4310, 0.9225, 0.7733],\n",
       "         [0.5949, 0.6548, 0.0333, 0.5481, 0.7550],\n",
       "         [0.1579, 0.1468, 0.3998, 0.5246, 0.5955],\n",
       "         [0.8718, 0.3238, 0.1801, 0.9991, 0.5964]])}"
      ]
     },
     "execution_count": 108,
     "metadata": {},
     "output_type": "execute_result"
    }
   ],
   "source": [
    "g.ndata['feature']"
   ]
  },
  {
   "cell_type": "code",
   "execution_count": 117,
   "metadata": {},
   "outputs": [],
   "source": [
    "conv = HeteroGraphConv({\n",
    "    '_E' : GraphConv(10,5),\n",
    "    '_Z' : GraphConv(5,1),\n",
    "    },\n",
    "    aggregate='sum')"
   ]
  },
  {
   "cell_type": "code",
   "execution_count": 118,
   "metadata": {},
   "outputs": [
    {
     "data": {
      "text/plain": [
       "{'_U': tensor([[1.1912],\n",
       "         [0.4831]], grad_fn=<SumBackward1>),\n",
       " '_V': tensor([[-0.1232,  0.5348, -0.3034, -0.3246,  0.3499],\n",
       "         [-0.0290,  0.2389, -0.2739, -0.7397,  0.3943],\n",
       "         [-0.1077,  0.5471, -0.4082, -0.7526,  0.5262],\n",
       "         [-0.1232,  0.5348, -0.3034, -0.3246,  0.3499]], grad_fn=<SumBackward1>)}"
      ]
     },
     "execution_count": 118,
     "metadata": {},
     "output_type": "execute_result"
    }
   ],
   "source": [
    "conv(g, {'_U': u_fea,'_V':v_fea})"
   ]
  },
  {
   "cell_type": "code",
   "execution_count": 19,
   "metadata": {},
   "outputs": [],
   "source": [
    "# Case 2: Unidirectional bipartite graph\n",
    "u = [0, 1, 0, 0, 1]\n",
    "v = [0, 1, 2, 3, 2]\n",
    "\n",
    "\n",
    "g = dgl.heterograph({('_U', '_E', '_V') : (u, v),\n",
    "                     })  # type: ignore\n",
    "u_fea = th.rand(2, 5)\n",
    "v_fea = th.rand(4, 5)"
   ]
  },
  {
   "cell_type": "code",
   "execution_count": 20,
   "metadata": {},
   "outputs": [
    {
     "data": {
      "text/plain": [
       "['_E']"
      ]
     },
     "execution_count": 20,
     "metadata": {},
     "output_type": "execute_result"
    }
   ],
   "source": [
    "g.etypes"
   ]
  },
  {
   "cell_type": "code",
   "execution_count": 22,
   "metadata": {},
   "outputs": [
    {
     "data": {
      "text/plain": [
       "tensor([[ 0.2883,  0.0416,  0.1496],\n",
       "        [-0.0770, -0.5018, -0.3699],\n",
       "        [ 0.1494, -0.3254, -0.1558],\n",
       "        [ 0.2883,  0.0416,  0.1496]], grad_fn=<AddBackward0>)"
      ]
     },
     "execution_count": 22,
     "metadata": {},
     "output_type": "execute_result"
    }
   ],
   "source": [
    "conv.mods['_Z'](g, (u_fea,v_fea))"
   ]
  },
  {
   "cell_type": "code",
   "execution_count": 28,
   "metadata": {},
   "outputs": [
    {
     "ename": "KeyError",
     "evalue": "'_U'",
     "output_type": "error",
     "traceback": [
      "\u001b[0;31m---------------------------------------------------------------------------\u001b[0m",
      "\u001b[0;31mKeyError\u001b[0m                                  Traceback (most recent call last)",
      "\u001b[0;32m/tmp/ipykernel_5216/1443319773.py\u001b[0m in \u001b[0;36m<module>\u001b[0;34m\u001b[0m\n\u001b[0;32m----> 1\u001b[0;31m \u001b[0mconv\u001b[0m\u001b[0;34m(\u001b[0m\u001b[0mg\u001b[0m\u001b[0;34m,\u001b[0m \u001b[0;34m{\u001b[0m\u001b[0;34m'_V'\u001b[0m\u001b[0;34m:\u001b[0m\u001b[0mv_fea\u001b[0m\u001b[0;34m}\u001b[0m\u001b[0;34m)\u001b[0m\u001b[0;34m\u001b[0m\u001b[0;34m\u001b[0m\u001b[0m\n\u001b[0m",
      "\u001b[0;32m~/anaconda3/lib/python3.8/site-packages/torch/nn/modules/module.py\u001b[0m in \u001b[0;36m_call_impl\u001b[0;34m(self, *input, **kwargs)\u001b[0m\n\u001b[1;32m   1049\u001b[0m         if not (self._backward_hooks or self._forward_hooks or self._forward_pre_hooks or _global_backward_hooks\n\u001b[1;32m   1050\u001b[0m                 or _global_forward_hooks or _global_forward_pre_hooks):\n\u001b[0;32m-> 1051\u001b[0;31m             \u001b[0;32mreturn\u001b[0m \u001b[0mforward_call\u001b[0m\u001b[0;34m(\u001b[0m\u001b[0;34m*\u001b[0m\u001b[0minput\u001b[0m\u001b[0;34m,\u001b[0m \u001b[0;34m**\u001b[0m\u001b[0mkwargs\u001b[0m\u001b[0;34m)\u001b[0m\u001b[0;34m\u001b[0m\u001b[0;34m\u001b[0m\u001b[0m\n\u001b[0m\u001b[1;32m   1052\u001b[0m         \u001b[0;31m# Do not call functions when jit is used\u001b[0m\u001b[0;34m\u001b[0m\u001b[0;34m\u001b[0m\u001b[0;34m\u001b[0m\u001b[0m\n\u001b[1;32m   1053\u001b[0m         \u001b[0mfull_backward_hooks\u001b[0m\u001b[0;34m,\u001b[0m \u001b[0mnon_full_backward_hooks\u001b[0m \u001b[0;34m=\u001b[0m \u001b[0;34m[\u001b[0m\u001b[0;34m]\u001b[0m\u001b[0;34m,\u001b[0m \u001b[0;34m[\u001b[0m\u001b[0;34m]\u001b[0m\u001b[0;34m\u001b[0m\u001b[0;34m\u001b[0m\u001b[0m\n",
      "\u001b[0;32m~/anaconda3/lib/python3.8/site-packages/dgl/nn/pytorch/hetero.py\u001b[0m in \u001b[0;36mforward\u001b[0;34m(self, g, inputs, mod_args, mod_kwargs)\u001b[0m\n\u001b[1;32m    185\u001b[0m                 dstdata = self.mods[etype](\n\u001b[1;32m    186\u001b[0m                     \u001b[0mrel_graph\u001b[0m\u001b[0;34m,\u001b[0m\u001b[0;34m\u001b[0m\u001b[0;34m\u001b[0m\u001b[0m\n\u001b[0;32m--> 187\u001b[0;31m                     \u001b[0;34m(\u001b[0m\u001b[0minputs\u001b[0m\u001b[0;34m[\u001b[0m\u001b[0mstype\u001b[0m\u001b[0;34m]\u001b[0m\u001b[0;34m,\u001b[0m \u001b[0minputs\u001b[0m\u001b[0;34m[\u001b[0m\u001b[0mdtype\u001b[0m\u001b[0;34m]\u001b[0m\u001b[0;34m)\u001b[0m\u001b[0;34m,\u001b[0m\u001b[0;34m\u001b[0m\u001b[0;34m\u001b[0m\u001b[0m\n\u001b[0m\u001b[1;32m    188\u001b[0m                     \u001b[0;34m*\u001b[0m\u001b[0mmod_args\u001b[0m\u001b[0;34m.\u001b[0m\u001b[0mget\u001b[0m\u001b[0;34m(\u001b[0m\u001b[0metype\u001b[0m\u001b[0;34m,\u001b[0m \u001b[0;34m(\u001b[0m\u001b[0;34m)\u001b[0m\u001b[0;34m)\u001b[0m\u001b[0;34m,\u001b[0m\u001b[0;34m\u001b[0m\u001b[0;34m\u001b[0m\u001b[0m\n\u001b[1;32m    189\u001b[0m                     **mod_kwargs.get(etype, {}))\n",
      "\u001b[0;31mKeyError\u001b[0m: '_U'"
     ]
    }
   ],
   "source": [
    "conv(g, {'_U': u_fea,'_V':v_fea})"
   ]
  }
 ],
 "metadata": {
  "kernelspec": {
   "display_name": "Python 3.9.5 ('base')",
   "language": "python",
   "name": "python3"
  },
  "language_info": {
   "codemirror_mode": {
    "name": "ipython",
    "version": 3
   },
   "file_extension": ".py",
   "mimetype": "text/x-python",
   "name": "python",
   "nbconvert_exporter": "python",
   "pygments_lexer": "ipython3",
   "version": "3.9.5"
  },
  "orig_nbformat": 4,
  "vscode": {
   "interpreter": {
    "hash": "f867c1da995947098dea1a39f903899f4ebf9970b3ec23fc161ccb1d8cbf1c2e"
   }
  }
 },
 "nbformat": 4,
 "nbformat_minor": 2
}
